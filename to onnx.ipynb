{
 "cells": [
  {
   "cell_type": "code",
   "execution_count": 90,
   "metadata": {},
   "outputs": [],
   "source": [
    "import os\n",
    "import logging\n",
    "\n",
    "def convert_model_tf2onnx(model, output_path='', input_size=(1,128,128,128), opset=None):\n",
    "    import tensorflow as tf\n",
    "    import tf2onnx\n",
    "\n",
    "    spec = (tf.TensorSpec((None, ) + tuple(input_size), tf.float64, name=\"modelInput\"),)\n",
    "\n",
    "    output_file = os.path.join(output_path, \"model.onnx\")\n",
    "    model_proto, _ = tf2onnx.convert.from_keras(model, input_signature=spec, opset=opset, output_path=output_file)\n",
    "    \n",
    "    logging.info('Model has been converted to ONNX') \n",
    "    return\n",
    "\n",
    "\n",
    "def convert_model_pytorch2onnx(model, output_path='', input_size=(1,4,240,240,155), opset=12, dynamic_input=True):\n",
    "    import torch.onnx\n",
    "\n",
    "    model.eval() \n",
    "    model.cpu()\n",
    "    \n",
    "    dummy_input = torch.randn(input_size, requires_grad=True) \n",
    "    if dynamic_input:\n",
    "        dynamic_axes={'modelInput' : {0 : 'batch_size', 2 : 'x', 3 : 'y', 4 : 'z'},\n",
    "                        'modelOutput' : {0 : 'batch_size', 2 : 'x', 3 : 'y', 4 : 'z'}}\n",
    "\n",
    "    else:\n",
    "        dynamic_axes={'modelInput' : {0 : 'batch_size'},    \n",
    "                        'modelOutput' : {0 : 'batch_size'}}\n",
    "\n",
    "    output_file = os.path.join(output_path, \"model.onnx\")\n",
    "    \n",
    "    torch.onnx.export(model,         # model being run \n",
    "         dummy_input,       # model input (or a tuple for multiple inputs) \n",
    "         output_file,       # where to save the model  \n",
    "         export_params=True,  # store the trained parameter weights inside the model file \n",
    "         opset_version=opset,    # the ONNX version to export the model to \n",
    "         do_constant_folding=True,  # whether to execute constant folding for optimization \n",
    "         input_names = ['modelInput'],   # the model's input names \n",
    "         output_names = ['modelOutput'], # the model's output names \n",
    "         dynamic_axes=dynamic_axes)  # variable length axes \n",
    "\n",
    "    logging.info('Model has been converted to ONNX') \n",
    "    return"
   ]
  },
  {
   "cell_type": "code",
   "execution_count": 91,
   "metadata": {},
   "outputs": [
    {
     "name": "stdout",
     "output_type": "stream",
     "text": [
      "{'modelInput': {0: 'batch_size', 4: 'z'}, 'modelOutput': {0: 'batch_size', 4: 'z'}}\n"
     ]
    },
    {
     "name": "stderr",
     "output_type": "stream",
     "text": [
      "<ipython-input-35-3ddf6a694b22>:54: UserWarning: __floordiv__ is deprecated, and its behavior will change in a future version of pytorch. It currently rounds toward 0 (like the 'trunc' function NOT 'floor'). This results in incorrect rounding for negative values. To keep the current behavior, use torch.div(a, b, rounding_mode='trunc'), or for actual floor division, use torch.div(a, b, rounding_mode='floor').\n",
      "  x1 = torch.nn.functional.pad(x1, [diffX // 2, diffX - diffX // 2, diffY // 2, diffY - diffY // 2, diffZ // 2, diffZ - diffZ // 2])\n"
     ]
    }
   ],
   "source": [
    "device = 'cpu'\n",
    "NET = torch.load(\"./temp/m1_resample_new.pt\",map_location=torch.device('cpu'))\n",
    "\n",
    "convert_model_pytorch2onnx(NET,  input_size=(2,1,128,240,155))"
   ]
  },
  {
   "cell_type": "code",
   "execution_count": null,
   "metadata": {},
   "outputs": [],
   "source": []
  }
 ],
 "metadata": {
  "kernelspec": {
   "display_name": "Python 3",
   "language": "python",
   "name": "python3"
  },
  "language_info": {
   "codemirror_mode": {
    "name": "ipython",
    "version": 3
   },
   "file_extension": ".py",
   "mimetype": "text/x-python",
   "name": "python",
   "nbconvert_exporter": "python",
   "pygments_lexer": "ipython3",
   "version": "3.8.3"
  }
 },
 "nbformat": 4,
 "nbformat_minor": 4
}
