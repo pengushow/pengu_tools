{
 "cells": [
  {
   "cell_type": "code",
   "execution_count": 14,
   "metadata": {},
   "outputs": [],
   "source": [
    "from itertools import product\n",
    "import fitz\n",
    "import numpy as np"
   ]
  },
  {
   "cell_type": "code",
   "execution_count": 97,
   "metadata": {},
   "outputs": [
    {
     "name": "stdout",
     "output_type": "stream",
     "text": [
      "第 0 頁去除完成\n",
      "第 1 頁去除完成\n",
      "第 2 頁去除完成\n",
      "第 3 頁去除完成\n",
      "第 4 頁去除完成\n"
   
     ]
    }
   ],
   "source": [
    "doc = fitz.open(\"Diffusion_full.pdf\")\n",
    "\n",
    "page_no = 0\n",
    "flat=0\n",
    "for page in doc:\n",
    "    pix = page.get_pixmap()\n",
    "    if sum(pix.pixel(78,108))==0:\n",
    "        for pos in product(range(pix.width), range(pix.height)):\n",
    "            if (sum(pix.pixel(pos[0], pos[1])) >= 75) and (pix.pixel(pos[0], pos[1])[0]==0):\n",
    "                pix.set_pixel(pos[0], pos[1], (255, 255, 255))\n",
    "    else:\n",
    "        for pos in product(range(pix.width), range(pix.height)):\n",
    "            if (sum(pix.pixel(pos[0], pos[1])) >= 75) and (pix.pixel(pos[0], pos[1])[0]==0):\n",
    "                pix.set_pixel(pos[0], pos[1], (255, 255, 255))\n",
    "            elif sum(pix.pixel(pos[0], pos[1])) >600:\n",
    "                pix.set_pixel(pos[0], pos[1], (0,0,0))\n",
    "    id = str(page_no).zfill(3)\n",
    "    pix.pil_save(f\"temp/Diffusion_{id}.png\", dpi=(30000, 30000))\n",
    "    print(f'第 {page_no} 頁去除完成')\n",
    "    page_no += 1"
   ]
  },
  {
   "cell_type": "code",
   "execution_count": 98,
   "metadata": {},
   "outputs": [],
   "source": [
    "from PIL import Image\n",
    "import glob\n",
    "img_f=glob.glob(\"temp/*\")\n",
    "\n",
    "image = Image.open(img_f[0])\n",
    "im_1 = image.convert('RGB')\n",
    "\n",
    "image_list=[]\n",
    "for f in img_f[1:]:\n",
    "    image = Image.open(f)\n",
    "    im = image.convert('RGB')\n",
    "    image_list.append(im)\n",
    "im_1.save(r'MRI_ppt.pdf', save_all=True, append_images=image_list)    "
   ]
  },
  {
   "cell_type": "code",
   "execution_count": null,
   "metadata": {},
   "outputs": [],
   "source": []
  }
 ],
 "metadata": {
  "kernelspec": {
   "display_name": "Python 3",
   "language": "python",
   "name": "python3"
  },
  "language_info": {
   "codemirror_mode": {
    "name": "ipython",
    "version": 3
   },
   "file_extension": ".py",
   "mimetype": "text/x-python",
   "name": "python",
   "nbconvert_exporter": "python",
   "pygments_lexer": "ipython3",
   "version": "3.8.3"
  }
 },
 "nbformat": 4,
 "nbformat_minor": 4
}
